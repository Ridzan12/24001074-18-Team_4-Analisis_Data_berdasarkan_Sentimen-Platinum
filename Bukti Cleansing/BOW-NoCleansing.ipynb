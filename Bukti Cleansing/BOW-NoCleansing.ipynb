{
 "cells": [
  {
   "cell_type": "code",
   "execution_count": 2,
   "metadata": {},
   "outputs": [],
   "source": [
    "#API\n",
    "from flask import Flask, jsonify\n",
    "from flask import request\n",
    "from flasgger import Swagger, LazyString, LazyJSONEncoder\n",
    "from flasgger import swag_from\n",
    "\n",
    "#Cleansing\n",
    "import re \n",
    "import pandas as pd\n",
    "import numpy as np\n",
    "import demoji\n",
    "import pickle\n",
    "\n",
    "#Stemmer\n",
    "from pathlib import Path\n",
    "from Sastrawi.Stemmer.StemmerFactory import StemmerFactory\n",
    "import nltk\n",
    "from nltk.corpus import stopwords\n",
    "\n",
    "#Extraction\n",
    "from sklearn.feature_extraction.text import CountVectorizer\n",
    "from sklearn.feature_extraction.text import TfidfVectorizer\n",
    "from sklearn.metrics import classification_report\n",
    "from sklearn.model_selection import train_test_split\n",
    "from sklearn.neural_network import MLPClassifier\n",
    "from sklearn.naive_bayes import MultinomialNB\n",
    "from sklearn.metrics import accuracy_score\n",
    "from sklearn.model_selection import KFold\n",
    "\n",
    "df = pd.read_csv(\"train_preprocess.txt\", delimiter = \"\\t\", header=None)\n",
    "\n",
    "df.columns =['text', 'label']\n",
    "sentiment = ['negative', 'neutral', 'positive']"
   ]
  },
  {
   "cell_type": "code",
   "execution_count": 3,
   "metadata": {},
   "outputs": [
    {
     "data": {
      "text/html": [
       "<div>\n",
       "<style scoped>\n",
       "    .dataframe tbody tr th:only-of-type {\n",
       "        vertical-align: middle;\n",
       "    }\n",
       "\n",
       "    .dataframe tbody tr th {\n",
       "        vertical-align: top;\n",
       "    }\n",
       "\n",
       "    .dataframe thead th {\n",
       "        text-align: right;\n",
       "    }\n",
       "</style>\n",
       "<table border=\"1\" class=\"dataframe\">\n",
       "  <thead>\n",
       "    <tr style=\"text-align: right;\">\n",
       "      <th></th>\n",
       "      <th>text</th>\n",
       "      <th>label</th>\n",
       "    </tr>\n",
       "  </thead>\n",
       "  <tbody>\n",
       "    <tr>\n",
       "      <th>0</th>\n",
       "      <td>warung ini dimiliki oleh pengusaha pabrik tahu...</td>\n",
       "      <td>positive</td>\n",
       "    </tr>\n",
       "    <tr>\n",
       "      <th>1</th>\n",
       "      <td>mohon ulama lurus dan k212 mmbri hujjah partai...</td>\n",
       "      <td>neutral</td>\n",
       "    </tr>\n",
       "    <tr>\n",
       "      <th>2</th>\n",
       "      <td>lokasi strategis di jalan sumatera bandung . t...</td>\n",
       "      <td>positive</td>\n",
       "    </tr>\n",
       "    <tr>\n",
       "      <th>3</th>\n",
       "      <td>betapa bahagia nya diri ini saat unboxing pake...</td>\n",
       "      <td>positive</td>\n",
       "    </tr>\n",
       "    <tr>\n",
       "      <th>4</th>\n",
       "      <td>duh . jadi mahasiswa jangan sombong dong . kas...</td>\n",
       "      <td>negative</td>\n",
       "    </tr>\n",
       "    <tr>\n",
       "      <th>5</th>\n",
       "      <td>makanan beragam , harga makanan di food stall ...</td>\n",
       "      <td>positive</td>\n",
       "    </tr>\n",
       "    <tr>\n",
       "      <th>6</th>\n",
       "      <td>pakai kartu kredit bca tidak untung malah rugi...</td>\n",
       "      <td>negative</td>\n",
       "    </tr>\n",
       "    <tr>\n",
       "      <th>7</th>\n",
       "      <td>tempat unik , bagus buat foto , makanan enak ,...</td>\n",
       "      <td>positive</td>\n",
       "    </tr>\n",
       "    <tr>\n",
       "      <th>8</th>\n",
       "      <td>saya bersama keluarga baru saja menikmati peng...</td>\n",
       "      <td>positive</td>\n",
       "    </tr>\n",
       "    <tr>\n",
       "      <th>9</th>\n",
       "      <td>bersyukur</td>\n",
       "      <td>positive</td>\n",
       "    </tr>\n",
       "    <tr>\n",
       "      <th>10</th>\n",
       "      <td>simcard indosat inaktiv gara-gara lupa isi pul...</td>\n",
       "      <td>negative</td>\n",
       "    </tr>\n",
       "    <tr>\n",
       "      <th>11</th>\n",
       "      <td>sifat iri sering muncul pada orang orang yang ...</td>\n",
       "      <td>negative</td>\n",
       "    </tr>\n",
       "    <tr>\n",
       "      <th>12</th>\n",
       "      <td>sekadar menceritakan pengalaman saya pesan ste...</td>\n",
       "      <td>positive</td>\n",
       "    </tr>\n",
       "    <tr>\n",
       "      <th>13</th>\n",
       "      <td>pengalaman bersama indosat hari ini , semoga t...</td>\n",
       "      <td>negative</td>\n",
       "    </tr>\n",
       "    <tr>\n",
       "      <th>14</th>\n",
       "      <td>anak sekarang sulit untuk dinasehati</td>\n",
       "      <td>negative</td>\n",
       "    </tr>\n",
       "    <tr>\n",
       "      <th>15</th>\n",
       "      <td>hanya mengatasi masalah kayak gini saja anies ...</td>\n",
       "      <td>negative</td>\n",
       "    </tr>\n",
       "    <tr>\n",
       "      <th>16</th>\n",
       "      <td>setiap bumn dibentuk dengan uu bukan dibentuk ...</td>\n",
       "      <td>neutral</td>\n",
       "    </tr>\n",
       "    <tr>\n",
       "      <th>17</th>\n",
       "      <td>sehabis puas bermain di trans studio bandung ,...</td>\n",
       "      <td>positive</td>\n",
       "    </tr>\n",
       "    <tr>\n",
       "      <th>18</th>\n",
       "      <td>rasa bakso cuanki dan batagor cukup . selalu r...</td>\n",
       "      <td>positive</td>\n",
       "    </tr>\n",
       "    <tr>\n",
       "      <th>19</th>\n",
       "      <td>sgwr 2018 beri dampak positif terhadap hobi an...</td>\n",
       "      <td>positive</td>\n",
       "    </tr>\n",
       "  </tbody>\n",
       "</table>\n",
       "</div>"
      ],
      "text/plain": [
       "                                                 text     label\n",
       "0   warung ini dimiliki oleh pengusaha pabrik tahu...  positive\n",
       "1   mohon ulama lurus dan k212 mmbri hujjah partai...   neutral\n",
       "2   lokasi strategis di jalan sumatera bandung . t...  positive\n",
       "3   betapa bahagia nya diri ini saat unboxing pake...  positive\n",
       "4   duh . jadi mahasiswa jangan sombong dong . kas...  negative\n",
       "5   makanan beragam , harga makanan di food stall ...  positive\n",
       "6   pakai kartu kredit bca tidak untung malah rugi...  negative\n",
       "7   tempat unik , bagus buat foto , makanan enak ,...  positive\n",
       "8   saya bersama keluarga baru saja menikmati peng...  positive\n",
       "9                                           bersyukur  positive\n",
       "10  simcard indosat inaktiv gara-gara lupa isi pul...  negative\n",
       "11  sifat iri sering muncul pada orang orang yang ...  negative\n",
       "12  sekadar menceritakan pengalaman saya pesan ste...  positive\n",
       "13  pengalaman bersama indosat hari ini , semoga t...  negative\n",
       "14               anak sekarang sulit untuk dinasehati  negative\n",
       "15  hanya mengatasi masalah kayak gini saja anies ...  negative\n",
       "16  setiap bumn dibentuk dengan uu bukan dibentuk ...   neutral\n",
       "17  sehabis puas bermain di trans studio bandung ,...  positive\n",
       "18  rasa bakso cuanki dan batagor cukup . selalu r...  positive\n",
       "19  sgwr 2018 beri dampak positif terhadap hobi an...  positive"
      ]
     },
     "execution_count": 3,
     "metadata": {},
     "output_type": "execute_result"
    }
   ],
   "source": [
    "df[:20]"
   ]
  },
  {
   "cell_type": "code",
   "execution_count": 4,
   "metadata": {},
   "outputs": [
    {
     "name": "stdout",
     "output_type": "stream",
     "text": [
      "Feature Extraction selesai\n"
     ]
    }
   ],
   "source": [
    "count_vect = CountVectorizer()\n",
    "count_vect.fit(df['text'])\n",
    "\n",
    "x = count_vect.transform(df['text'])\n",
    "print ('Feature Extraction selesai')"
   ]
  },
  {
   "cell_type": "code",
   "execution_count": 5,
   "metadata": {},
   "outputs": [
    {
     "name": "stdout",
     "output_type": "stream",
     "text": [
      "Training selesai\n"
     ]
    }
   ],
   "source": [
    "pickle.dump(count_vect, open('count_vect.pkl', 'wb'))\n",
    "classes = df['label']\n",
    "x_train, x_test, y_train, y_test = train_test_split(x, classes, test_size = 0.2, stratify=classes)\n",
    "model = MLPClassifier()\n",
    "model.fit(x_train, y_train)\n",
    "\n",
    "print ('Training selesai')"
   ]
  },
  {
   "cell_type": "code",
   "execution_count": 6,
   "metadata": {},
   "outputs": [
    {
     "data": {
      "text/plain": [
       "0        positive\n",
       "1         neutral\n",
       "2        positive\n",
       "3        positive\n",
       "4        negative\n",
       "           ...   \n",
       "10995    positive\n",
       "10996    positive\n",
       "10997     neutral\n",
       "10998    negative\n",
       "10999    positive\n",
       "Name: label, Length: 11000, dtype: object"
      ]
     },
     "execution_count": 6,
     "metadata": {},
     "output_type": "execute_result"
    }
   ],
   "source": [
    "classes"
   ]
  },
  {
   "cell_type": "code",
   "execution_count": 7,
   "metadata": {},
   "outputs": [
    {
     "name": "stdout",
     "output_type": "stream",
     "text": [
      "Testing selesai\n",
      "              precision    recall  f1-score   support\n",
      "\n",
      "    negative       0.81      0.80      0.80       687\n",
      "     neutral       0.78      0.70      0.74       230\n",
      "    positive       0.88      0.91      0.89      1283\n",
      "\n",
      "    accuracy                           0.85      2200\n",
      "   macro avg       0.82      0.80      0.81      2200\n",
      "weighted avg       0.85      0.85      0.85      2200\n",
      "\n"
     ]
    }
   ],
   "source": [
    "pickle.dump(model, open('model.p', 'wb'))\n",
    "test = model.predict(x_test)\n",
    "\n",
    "print (\"Testing selesai\")\n",
    "\n",
    "print(classification_report(y_test, test))"
   ]
  },
  {
   "cell_type": "code",
   "execution_count": 8,
   "metadata": {},
   "outputs": [
    {
     "name": "stdout",
     "output_type": "stream",
     "text": [
      "Sentiment:\n",
      "\n",
      "positive\n"
     ]
    }
   ],
   "source": [
    "original_text =  '''\n",
    "anak baik\n",
    "'''\n",
    "\n",
    "# Feature Extraction\n",
    "text = count_vect.transform([(original_text)])\n",
    "\n",
    "# Kita prediksi sentimennya\n",
    "result = model.predict(text)[0]\n",
    "print(\"Sentiment:\")\n",
    "print()\n",
    "print(result)"
   ]
  },
  {
   "cell_type": "code",
   "execution_count": 9,
   "metadata": {},
   "outputs": [
    {
     "data": {
      "text/plain": [
       "array([[0.05242318, 0.03632185, 0.91125498]])"
      ]
     },
     "execution_count": 9,
     "metadata": {},
     "output_type": "execute_result"
    }
   ],
   "source": [
    "model.predict_proba(text)"
   ]
  },
  {
   "cell_type": "code",
   "execution_count": 10,
   "metadata": {},
   "outputs": [
    {
     "name": "stdout",
     "output_type": "stream",
     "text": [
      "Training ke- 1\n",
      "              precision    recall  f1-score   support\n",
      "\n",
      "    negative       0.77      0.79      0.78       680\n",
      "     neutral       0.76      0.64      0.69       239\n",
      "    positive       0.87      0.89      0.88      1281\n",
      "\n",
      "    accuracy                           0.83      2200\n",
      "   macro avg       0.80      0.77      0.79      2200\n",
      "weighted avg       0.83      0.83      0.83      2200\n",
      "\n",
      "======================================================\n",
      "Training ke- 2\n",
      "              precision    recall  f1-score   support\n",
      "\n",
      "    negative       0.80      0.77      0.79       706\n",
      "     neutral       0.73      0.71      0.72       220\n",
      "    positive       0.88      0.91      0.89      1274\n",
      "\n",
      "    accuracy                           0.84      2200\n",
      "   macro avg       0.80      0.80      0.80      2200\n",
      "weighted avg       0.84      0.84      0.84      2200\n",
      "\n",
      "======================================================\n",
      "Training ke- 3\n",
      "              precision    recall  f1-score   support\n",
      "\n",
      "    negative       0.80      0.80      0.80       682\n",
      "     neutral       0.87      0.72      0.78       215\n",
      "    positive       0.89      0.91      0.90      1303\n",
      "\n",
      "    accuracy                           0.86      2200\n",
      "   macro avg       0.85      0.81      0.83      2200\n",
      "weighted avg       0.86      0.86      0.86      2200\n",
      "\n",
      "======================================================\n",
      "Training ke- 4\n",
      "              precision    recall  f1-score   support\n",
      "\n",
      "    negative       0.78      0.80      0.79       698\n",
      "     neutral       0.79      0.65      0.71       229\n",
      "    positive       0.88      0.90      0.89      1273\n",
      "\n",
      "    accuracy                           0.84      2200\n",
      "   macro avg       0.82      0.78      0.80      2200\n",
      "weighted avg       0.84      0.84      0.84      2200\n",
      "\n",
      "======================================================\n",
      "Training ke- 5\n",
      "              precision    recall  f1-score   support\n",
      "\n",
      "    negative       0.77      0.82      0.79       670\n",
      "     neutral       0.80      0.66      0.72       245\n",
      "    positive       0.90      0.90      0.90      1285\n",
      "\n",
      "    accuracy                           0.85      2200\n",
      "   macro avg       0.82      0.79      0.80      2200\n",
      "weighted avg       0.85      0.85      0.85      2200\n",
      "\n",
      "======================================================\n",
      "\n",
      "\n",
      "\n",
      "Rata-rata Accuracy:  0.8447272727272728\n"
     ]
    }
   ],
   "source": [
    "# Untuk lebih menyakinkan lagi, kita juga bisa melakukan \"Cross Validation\"\n",
    "\n",
    "kf = KFold(n_splits=5,random_state=42,shuffle=True)\n",
    "\n",
    "accuracies = []\n",
    "\n",
    "y = classes\n",
    "\n",
    "for iteration, data in enumerate(kf.split(x), start=1):\n",
    "\n",
    "    data_train   = x[data[0]]\n",
    "    target_train = y[data[0]]\n",
    "\n",
    "    data_test    = x[data[1]]\n",
    "    target_test  = y[data[1]]\n",
    "\n",
    "    clf = MLPClassifier()\n",
    "    # clf = svm.SVC(gamma=0.01, C=100., probability=True)\n",
    "    clf.fit(data_train,target_train)\n",
    "\n",
    "    preds = clf.predict(data_test)\n",
    "\n",
    "    # for the current fold only    \n",
    "    accuracy = accuracy_score(target_test,preds)\n",
    "\n",
    "    print(\"Training ke-\", iteration)\n",
    "    print(classification_report(target_test,preds))\n",
    "    print(\"======================================================\")\n",
    "\n",
    "    accuracies.append(accuracy)\n",
    "\n",
    "# this is the average accuracy over all folds\n",
    "average_accuracy = np.mean(accuracies)\n",
    "\n",
    "print()\n",
    "print()\n",
    "print()\n",
    "print(\"Rata-rata Accuracy: \", average_accuracy)"
   ]
  },
  {
   "cell_type": "code",
   "execution_count": null,
   "metadata": {},
   "outputs": [],
   "source": []
  }
 ],
 "metadata": {
  "kernelspec": {
   "display_name": "Python 3",
   "language": "python",
   "name": "python3"
  },
  "language_info": {
   "codemirror_mode": {
    "name": "ipython",
    "version": 3
   },
   "file_extension": ".py",
   "mimetype": "text/x-python",
   "name": "python",
   "nbconvert_exporter": "python",
   "pygments_lexer": "ipython3",
   "version": "3.11.4"
  }
 },
 "nbformat": 4,
 "nbformat_minor": 2
}
